{
 "cells": [
  {
   "cell_type": "code",
   "execution_count": 220,
   "metadata": {
    "scrolled": true
   },
   "outputs": [
    {
     "name": "stdout",
     "output_type": "stream",
     "text": [
      "0\n",
      "-0.37276133578677784\n",
      "NMSE =\n",
      "1\n",
      "-0.9775649855946316\n",
      "NMSE =\n",
      "2\n",
      "-2.024698373373976\n",
      "NMSE =\n",
      "3\n",
      "-2.802382461898909\n",
      "NMSE =\n",
      "4\n",
      "-3.546734519655073\n",
      "NMSE =\n",
      "5\n",
      "-4.20435843932944\n",
      "NMSE =\n",
      "6\n",
      "-4.7419814324595935\n",
      "NMSE =\n",
      "Elapsed time =\n",
      "779.7234029769897\n",
      "0\n",
      "-0.37031411608079756\n",
      "NMSE =\n",
      "1\n",
      "-0.9580420069735618\n",
      "NMSE =\n",
      "2\n",
      "-1.9678885678719253\n",
      "NMSE =\n",
      "3\n",
      "-2.7379280539583677\n",
      "NMSE =\n",
      "4\n",
      "-3.475182991321344\n",
      "NMSE =\n",
      "5\n",
      "-4.126964506588981\n",
      "NMSE =\n",
      "6\n",
      "-4.662160531536175\n",
      "NMSE =\n",
      "Elapsed time =\n",
      "2899.560033082962\n"
     ]
    }
   ],
   "source": [
    "import numpy as np\n",
    "from scipy.stats import norm\n",
    "from numpy import genfromtxt\n",
    "import time\n",
    "np.random.seed(211)\n",
    "import os\n",
    "t_start = time.time()\n",
    "N = 16\n",
    "modulation=3       # Defines the matrix S defined in (3) of paper, 1- Identity, 2- ZC, 3- DFT \n",
    "SNR=0               # SNR of measurements\n",
    "algo=1              # 1- Projected Gradient ascent, 2- Franke Wolfe\n",
    "nuc_norm_bd=20.1      # estimate this from channel data- Verified this to be ~16\n",
    "Nrandom_init=5      # Set to 1 to GET A ROUGH IDEA, For final plot use 5\n",
    "Nchan=100           # No. of channels; Used 1 here for illustration, paper uses 100 channels\n",
    "like_it=[]    \n",
    "def DFT_matrix(N):\n",
    "    x, y = np.meshgrid(np.arange(N), np.arange(N))\n",
    "    omega = np.exp(-2*1j*np.pi/N)\n",
    "    W = np.power(omega,x*y)/np.sqrt(N)\n",
    "    return W\n",
    "\n",
    "if(modulation==1): \n",
    "    Z_code=np.eye(N,dtype=complex)\n",
    "if(modulation==2): \n",
    "    zcbase=np.pi*11*(np.arange(N)**2)/N\n",
    "    zcbase=np.exp(1j*zcbase)/np.sqrt(N)                 \n",
    "    Z_code=np.zeros([N,N],dtype=complex)\n",
    "    for zz in range(N):\n",
    "        Z_code[:,zz]=np.roll(zcbase, zz)\n",
    "if(modulation==3):\n",
    "    Z_code=DFT_matrix(N)\n",
    "    \n",
    "def compute_channel(ch):                           # load channel data\n",
    "    path = os.getcwd()+ \"/NYU_raw_data/Non_LoS_38GHz_UMi_16x16_15m/\"\n",
    "    CH_real=genfromtxt(path + 'Real_H_'+str(ch+1)+'.csv', delimiter=',')\n",
    "    CH_imag=genfromtxt(path + 'Imag_H_'+str(ch+1)+'.csv', delimiter=',')\n",
    "    CH=CH_real+1j*CH_imag\n",
    "    return CH\n",
    "\n",
    "def fx(value, s):                # used to compute Likelihood and its gradient\n",
    "    return norm.cdf(value*1.0/s)\n",
    "\n",
    "def fxprime(value, s):           # used to compute gradient of the likelihood\n",
    "    curr = value*1.0/s\n",
    "    return norm.pdf(curr)/s\n",
    "\n",
    "def nucnorm_ball_projection(A):  # nuclear norm ball projection step\n",
    "    U, S, V = np.linalg.svd(A, full_matrices=False)\n",
    "    S = simplex(S)\n",
    "    return U.dot(np.diag(S).dot(V))\n",
    "def L2_ball_projection(A):  # nuclear norm ball projection step\n",
    "    B=A*1.0/np.linalg.norm(A,'fro');\n",
    "    return B\n",
    "def powmethod(A,N):              # power iteration method to compute top singular vectors\n",
    "    vg=np.random.randn(N,)+1j*np.random.randn(N,)\n",
    "    for nn in range(10):\n",
    "        Ah=A.conj().T\n",
    "        vg=Ah.dot(A.dot(vg))\n",
    "    vg=vg/np.linalg.norm(vg)\n",
    "    ug=A.dot(vg)\n",
    "    ug=ug/np.linalg.norm(ug)\n",
    "    return np.outer(ug,vg.conj())\n",
    "    \n",
    "def simplex(y):                 # simplex projection step used in projected gradient ascent\n",
    "    u=np.sort(y)[::-1]\n",
    "    cs=np.cumsum(u)\n",
    "    ncs=1.0-1.0*cs\n",
    "    indx=np.linspace(1,np.size(u),np.size(u),endpoint=True)\n",
    "    sr=ncs/indx\n",
    "    srs=sr+u\n",
    "    rho=np.max(np.where(srs>0))\n",
    "    lb=sr[rho]\n",
    "    x=y+lb\n",
    "    x[x<0]=0\n",
    "    return x\n",
    "\n",
    "def Likel(x,y,o,s,num):       # Likelihood function, here o represents the set of phase offsets defined in Sec. 3.4\n",
    "    sumll=0\n",
    "    for i in range(num):      # num is the number of phase offsets, i.e., B in our paper\n",
    "        xr = (x.real * np.cos(o[i])) - (x.imag * np.sin(o[i]))\n",
    "        xi = (x.imag * np.cos(o[i])) + (x.real * np.sin(o[i]))\n",
    "        LYR=np.where(y[i].real > 0, np.log10(fx(xr,s)),0)+np.where(y[i].real < 0, np.log10(1-fx(xr,s)),0)\n",
    "        LYI=np.where(y[i].imag > 0, np.log10(fx(xi,s)),0)+np.where(y[i].imag < 0, np.log10(1-fx(xi,s)),0)\n",
    "        sumll=sumll+np.sum(LYR+LYI)\n",
    "    return sumll             # Likelihood function for the phase offset-based training.\n",
    "# For the special case when o contains a single element zero, the likelihood expression is same as (8) in our paper.\n",
    "\n",
    "def Gradient(x, y, o, s,num):  # Gradient of the likelihood function\n",
    "    grad = []\n",
    "    for i in range(num):  \n",
    "        xr = (x.real * np.cos(o[i])) - (x.imag * np.sin(o[i]))\n",
    "        xi = (x.imag * np.cos(o[i])) + (x.real * np.sin(o[i]))\n",
    "        zrr = np.where(y[i].real > 0, ((1 / fx(xr, s)) * fxprime(xr, s) * np.cos(o[i])), 0) + np.where(y[i].real < 0, (\n",
    "                    (1 / (1 - fx(xr, s))) * -1 * fxprime(xr, s) * np.cos(o[i])), 0)\n",
    "        zri = np.where(y[i].real > 0, ((1 / fx(xr, s)) * fxprime(xr, s) * -1 * np.sin(o[i])), 0) + np.where(y[i].real < 0, (\n",
    "                    (1 / (1 - fx(xr, s))) * -1 * fxprime(xr, s) * -1 * np.sin(o[i])), 0)\n",
    "        zir = np.where(y[i].imag > 0, ((1 / fx(xi, s)) * fxprime(xi, s) * np.sin(o[i])), 0) + np.where(y[i].imag < 0, (\n",
    "                    (1 / (1 - fx(xi, s))) * -1 * fxprime(xi, s) * np.sin(o[i])), 0)\n",
    "        zii = np.where(y[i].imag > 0, ((1 / fx(xi, s)) * fxprime(xi, s) * np.cos(o[i])), 0) + np.where(y[i].imag < 0, (\n",
    "                    (1 / (1 - fx(xi, s))) * -1 * fxprime(xi, s) * np.cos(o[i])), 0)\n",
    "        grad.append((zrr + (1j * zri)) + (zir + (1j * zii)))\n",
    "    return sum(grad)\n",
    "    \n",
    "def solve(Y_in,N,norm_bd,ang_set,sig,algo,num):\n",
    "    like_it=[];\n",
    "    if(algo==1):  # Projected gradient ascent\n",
    "        X_t = np.random.randn(N, N) + 1j * np.random.randn(N, N)\n",
    "        U, s, V = np.linalg.svd(X_t, full_matrices=False)\n",
    "        s = s * norm_bd / np.sum(s)\n",
    "        X_t = U.dot(np.diag(s).dot(V))\n",
    "       # X_t = np.random.randn(N, N) + 1j * np.random.randn(N, N)\n",
    "        LLprev=Likel(X_t,Y_in,ang_set,sig,num)\n",
    "        for t in range(80):\n",
    "            gamma_t = 1/num\n",
    "            Grad = Gradient(X_t, Y_in, ang_set, sig,num)\n",
    "            X_prev=X_t\n",
    "            X_t=X_t+gamma_t*Grad \n",
    "            X_t = norm_bd * nucnorm_ball_projection(X_t / norm_bd)\n",
    "            LLnew=Likel(X_t,Y_in,ang_set,sig,num)\n",
    "            stpcriterion=(LLnew-LLprev)/np.abs(LLprev)\n",
    "            LLprev=LLnew\n",
    "            like_it.append(LLnew)\n",
    "            if((stpcriterion<1e-10) & (stpcriterion>0)):\n",
    "                break\n",
    "            if((stpcriterion<0)):\n",
    "                gamma_t=gamma_t*0.5\n",
    "                X_t=X_prev\n",
    "    if(algo==2):  #Franke Wolfe\n",
    "        X_t=np.random.randn(N, N) + 1j * np.random.randn(N, N)#np.zeros([N,N],dtype=complex)  \n",
    "        U, s, V = np.linalg.svd(X_t, full_matrices=False)\n",
    "        s = s * norm_bd / np.sum(s)\n",
    "        X_t = U.dot(np.diag(s).dot(V))\n",
    "        LLprev=Likel(X_t,Y_in,ang_set,sig,num)\n",
    "        cfac=2;\n",
    "        for t in range(80):\n",
    "            gamma_t = cfac / (t + 2)\n",
    "            Grad = Gradient(X_t, Y_in, ang_set, sig,num)\n",
    "            X_prev=X_t\n",
    "            X_t = X_t + (gamma_t * (norm_bd*powmethod(Grad,N)-X_t))\n",
    "            LLnew=Likel(X_t,Y_in,ang_set,sig,num)\n",
    "            stpcriterion=(LLnew-LLprev)/np.abs(LLprev)\n",
    "            LLprev=LLnew\n",
    "            like_it.append(LLnew)\n",
    "            if((stpcriterion<1e-10) & (stpcriterion>0)):\n",
    "                break\n",
    "            if((stpcriterion<0)):\n",
    "                cfac=cfac*0.5\n",
    "                X_t=X_prev\n",
    "    return X_t,like_it\n",
    "\n",
    "for algo in range(1,3):\n",
    "    NMSEvec=[]\n",
    "    Transvec=[8,16,32,48,64,80,96];        # Vector containing number of transmissions(Np);Paper uses [8,16,32,48,64,80,96];\n",
    "    for ttv in range(len(Transvec)):\n",
    "        Trans=Transvec[ttv]            # PARAMETER 1- N_p\n",
    "        B = Trans*N\n",
    "        blocks = B // N**2\n",
    "        sblocks = (B - (blocks*N**2)) / N\n",
    "        sblocks = int(sblocks)\n",
    "        num = blocks + 1\n",
    "        omega = []\n",
    "        for i in range(num):\n",
    "            omega.append(i*(np.pi/(2*num)))\n",
    "        scaling_ch=1\n",
    "        sigma=10**(-SNR/20)\n",
    "        sigma_model=max(0.5,sigma)\n",
    "        arr = []\n",
    "        Ys = []\n",
    "        print(ttv)\n",
    "        for ch in range(Nchan):\n",
    "            H=compute_channel(ch) \n",
    "            Hmod=H.dot(Z_code)        # Hmod is the transformed channel, i.e., G defined in paper\n",
    "            H_ts = []\n",
    "            for i in range(Nrandom_init):\n",
    "                np.random.seed(21 * i)\n",
    "                M=Hmod*scaling_ch\n",
    "                Ys = []\n",
    "                for indw in range(len(omega)):\n",
    "                    w=omega[indw]\n",
    "                    Noise_blk=sigma*(np.random.randn(N,N)+1j*np.random.randn(N,N))/np.sqrt(2) \n",
    "                    Y = np.sign((M.real * np.cos(w)) - (M.imag * np.sin(w))+Noise_blk.real) + 1j*(np.sign((M.imag * np.cos(w)) + (M.real * np.sin(w))+Noise_blk.imag))\n",
    "                    if indw == len(omega)-1:\n",
    "                        k = np.random.choice(N, size=N - sblocks, replace=False)\n",
    "                        Y[:, k] = 0\n",
    "                    Ys.append(Y)\n",
    "                X_t,like_it=solve(Ys,N,nuc_norm_bd,omega,sigma_model,algo,num) \n",
    "                H_t=X_t.dot(np.conj(Z_code))             # Invert the transformation between H and G to get back H.\n",
    "                norm_sq_H = np.linalg.norm(H, 'fro') ** 2\n",
    "                alph = np.sum(np.conj(H_t) * H) / np.sum(np.conj(H_t) * H_t)\n",
    "                NMSE = (np.linalg.norm(H - alph * H_t, 'fro') ** 2) / norm_sq_H\n",
    "                arr.append(NMSE)\n",
    "                H_t = np.reshape(H_t, (256))\n",
    "                H_ts.append(H_t)\n",
    "            dirName = \"SNR_0\" +\"_Trans_\"+str(Trans)+\"/\"\n",
    "            try:\n",
    "                os.makedirs(dirName)\n",
    "              #  print(\"Directory \", dirName, \" Created \")\n",
    "            except FileExistsError:\n",
    "                testprint=0;\n",
    "    #            print(\"Directory \", dirName, \" already exists\")\n",
    "            filename = \"estim_channel_no_\" + str(ch) + \"_algo_\" + str(algo) + \".csv\"\n",
    "            #save_path = \"Users/nm27265-admin/Downloads/Low-rank-MIMO-channel-estimation-from-one-bit-measurements-master/\" + dirName + filename\n",
    "            np.savetxt(dirName + filename, (H_ts), fmt=\"%f\")\n",
    "        print(10*np.log10(sum(arr)/Nrandom_init/Nchan))\n",
    "        print(\"NMSE =\")\n",
    "        NMSEvec.append(10*np.log10(sum(arr)/Nrandom_init/Nchan))\n",
    "    elapsed = time.time() - t_start\n",
    "    print(\"Elapsed time =\")\n",
    "    print(elapsed)\n"
   ]
  },
  {
   "cell_type": "code",
   "execution_count": 202,
   "metadata": {},
   "outputs": [
    {
     "data": {
      "text/plain": [
       "1"
      ]
     },
     "execution_count": 202,
     "metadata": {},
     "output_type": "execute_result"
    }
   ],
   "source": [
    "algo"
   ]
  },
  {
   "cell_type": "code",
   "execution_count": 195,
   "metadata": {},
   "outputs": [
    {
     "data": {
      "text/plain": [
       "[<matplotlib.lines.Line2D at 0x1a0b6816a0>]"
      ]
     },
     "execution_count": 195,
     "metadata": {},
     "output_type": "execute_result"
    },
    {
     "data": {
      "image/png": "[encoded data removed]",
      "text/plain": [
       "<Figure size 432x288 with 1 Axes>"
      ]
     },
     "metadata": {
      "needs_background": "light"
     },
     "output_type": "display_data"
    }
   ],
   "source": [
    "import matplotlib.pyplot as plt\n",
    "plt.plot(like_it)"
   ]
  },
  {
   "cell_type": "code",
   "execution_count": null,
   "metadata": {},
   "outputs": [],
   "source": [
    "\n",
    "from mpl_toolkits.mplot3d import Axes3D\n",
    "import matplotlib.pyplot as plt\n",
    "from matplotlib import cm\n",
    "from matplotlib.ticker import LinearLocator, FormatStrFormatter\n",
    "angle_rx = np.arange(N)\n",
    "angle_tx = np.arange(N)\n",
    "angle_rx, angle_tx = np.meshgrid(angle_rx, angle_tx)\n",
    "fig = plt.figure()\n",
    "ax = fig.gca(projection='3d')\n",
    "\n",
    "# Make data.\n",
    "Spec_true = np.abs(np.fft.fft2(H))\n",
    "\n",
    "# Plot the surface.\n",
    "surf = ax.plot_surface(angle_rx, angle_tx, Spec_true, cmap=cm.coolwarm,\n",
    "                       linewidth=0, antialiased=False)\n",
    "plt.title('True channel Angle spectrum')\n",
    "plt.xlabel('DFT direction (RX)')\n",
    "plt.ylabel('DFT direction (TX)')\n",
    "plt.show()\n",
    "print(\"\\n \")\n",
    "fig = plt.figure()\n",
    "ax = fig.gca(projection='3d')\n",
    "\n",
    "# Make data.\n",
    "Spec = np.abs(np.fft.fft2(X_t))\n",
    "\n",
    "# Plot the surface.\n",
    "surf = ax.plot_surface(angle_rx, angle_tx, Spec, cmap=cm.coolwarm,\n",
    "                       linewidth=0, antialiased=False,)\n",
    "plt.title('Estimated channel Angle spectrum')\n",
    "plt.xlabel('DFT direction (RX)')\n",
    "plt.ylabel('DFT direction (TX)')\n",
    "plt.show()"
   ]
  },
  {
   "cell_type": "code",
   "execution_count": 6,
   "metadata": {},
   "outputs": [
    {
     "data": {
      "text/plain": [
       "16.000037794842463"
      ]
     },
     "execution_count": 6,
     "metadata": {},
     "output_type": "execute_result"
    }
   ],
   "source": [
    "np.linalg.norm(H,'fro')"
   ]
  },
  {
   "cell_type": "code",
   "execution_count": 219,
   "metadata": {},
   "outputs": [
    {
     "name": "stdout",
     "output_type": "stream",
     "text": [
      "1\n",
      "2\n"
     ]
    }
   ],
   "source": [
    "for i in range(1,3):\n",
    "    print(i)"
   ]
  },
  {
   "cell_type": "code",
   "execution_count": 56,
   "metadata": {},
   "outputs": [],
   "source": [
    "a=np.random.randn(4,4)+1j*np.random.randn(4,4)\n",
    "b=np.random.randn(4,4)+1j*np.random.randn(4,4)"
   ]
  },
  {
   "cell_type": "code",
   "execution_count": 217,
   "metadata": {},
   "outputs": [
    {
     "data": {
      "text/plain": [
       "range(0, 2)"
      ]
     },
     "execution_count": 217,
     "metadata": {},
     "output_type": "execute_result"
    }
   ],
   "source": [
    "range(2)"
   ]
  },
  {
   "cell_type": "code",
   "execution_count": 61,
   "metadata": {},
   "outputs": [
    {
     "data": {
      "text/plain": [
       "array([[ 0.06749226-0.59690648j,  0.01633808+0.98728669j,\n",
       "         0.28431452+0.40123471j,  0.41540063+0.80008248j],\n",
       "       [-1.03148246+1.0431295 j, -1.42999126+0.85707819j,\n",
       "        -0.06163805-0.67746217j, -1.43273549-0.05182039j],\n",
       "       [ 0.08753147+0.87916063j,  0.93874688+0.23110161j,\n",
       "         0.60711167+1.63880731j, -1.04817041+0.73331281j],\n",
       "       [-0.86026245-2.14957453j,  0.3283013 +0.09024385j,\n",
       "        -0.40129781-0.73165893j, -0.3166553 +0.06548838j]])"
      ]
     },
     "execution_count": 61,
     "metadata": {},
     "output_type": "execute_result"
    }
   ],
   "source": [
    "np.conjugate(b)"
   ]
  },
  {
   "cell_type": "code",
   "execution_count": 163,
   "metadata": {},
   "outputs": [
    {
     "name": "stdout",
     "output_type": "stream",
     "text": [
      "0.1\n"
     ]
    }
   ],
   "source": [
    "a=0.1\n",
    "if((a>0) & (a<2)):\n",
    "    print(a)"
   ]
  },
  {
   "cell_type": "code",
   "execution_count": null,
   "metadata": {},
   "outputs": [],
   "source": []
  }
 ],
 "metadata": {
  "kernelspec": {
   "display_name": "Python 3",
   "language": "python",
   "name": "python3"
  },
  "language_info": {
   "codemirror_mode": {
    "name": "ipython",
    "version": 3
   },
   "file_extension": ".py",
   "mimetype": "text/x-python",
   "name": "python",
   "nbconvert_exporter": "python",
   "pygments_lexer": "ipython3",
   "version": "3.6.8"
  }
 },
 "nbformat": 4,
 "nbformat_minor": 2
}
